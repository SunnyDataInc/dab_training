{
 "cells": [
  {
   "cell_type": "code",
   "execution_count": null,
   "metadata": {},
   "outputs": [],
   "source": [
    "from pyspark.sql import functions as F\n",
    "\n",
    "# Pull the \n",
    "var = dbutils.widgets.getAll()\n",
    "for key in [*var]:\n",
    "    print(f\"{key}: {var[key]}\")"
   ]
  },
  {
   "cell_type": "code",
   "execution_count": null,
   "metadata": {},
   "outputs": [],
   "source": [
    "def process_bronze(checkpoint_path, file_path, full_table_name):\n",
    "    raw_df = (\n",
    "        spark.readStream.format(\"cloudFiles\")\n",
    "        .option(\"cloudFiles.format\", \"parquet\")\n",
    "        .option(\n",
    "            \"cloudFiles.schemaLocation\", checkpoint_path\n",
    "        )\n",
    "        .load(file_path)\n",
    "    )\n",
    "\n",
    "    # Cast all columns to string to handle column type mismatch through the years\n",
    "    df_string = raw_df.select([F.col(c).cast(\"string\") for c in raw_df.columns])\n",
    "\n",
    "    # write to table incrementally\n",
    "    query = (\n",
    "        df_string.writeStream\n",
    "        .option(\n",
    "            \"checkpointLocation\", checkpoint_path\n",
    "        )\n",
    "        .option(\"mergeSchema\", \"true\")\n",
    "        .outputMode(\"append\")\n",
    "        .trigger(availableNow=True)  # this means incremental batch\n",
    "        .toTable(full_table_name)\n",
    "    )\n",
    "    query.awaitTermination()"
   ]
  },
  {
   "cell_type": "code",
   "execution_count": null,
   "metadata": {},
   "outputs": [],
   "source": [
    "process_bronze(\n",
    "    var[\"checkpoint_path\"],\n",
    "    var[\"file_path\"],\n",
    "    var[\"full_table_name\"]\n",
    ")"
   ]
  }
 ],
 "metadata": {
  "language_info": {
   "name": "python"
  }
 },
 "nbformat": 4,
 "nbformat_minor": 2
}
