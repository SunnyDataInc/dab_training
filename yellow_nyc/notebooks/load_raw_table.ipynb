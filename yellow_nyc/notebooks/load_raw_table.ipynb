{
 "cells": [
  {
   "cell_type": "code",
   "execution_count": null,
   "metadata": {},
   "outputs": [],
   "source": [
    "from pyspark.sql import functions as F\n",
    "from datetime import date\n",
    "from databricks.sdk import WorkspaceClient"
   ]
  },
  {
   "cell_type": "code",
   "execution_count": null,
   "metadata": {},
   "outputs": [],
   "source": [
    "def get_job_run_details():\n",
    "    # Create workspace client\n",
    "    w = WorkspaceClient()\n",
    "\n",
    "    context = dbutils.notebook.entry_point.getDbutils().notebook().getContext()\n",
    "    # Get current job ID\n",
    "    if context.jobId().isDefined():\n",
    "        job_id = context.jobId().get()\n",
    "        \n",
    "        # Get current run ID if available\n",
    "        if context.tags().contains(\"jobRunId\"):\n",
    "            run_id = context.tags().apply(\"jobRunId\")\n",
    "        else:\n",
    "            run_id = None\n",
    "    else:\n",
    "        job_id = None\n",
    "        run_id = None\n",
    "    return job_id, run_id\n",
    "\n",
    "def add_audit_columns(batch_df, batch_id):\n",
    "    # get job details for audit columns\n",
    "    # Add audit columns\n",
    "    batch_df = (\n",
    "        batch_df.withColumn(\"dp_job_id\", F.lit(job_id))\n",
    "        .withColumn(\"dp_run_id\", F.lit(run_id))\n",
    "        .withColumn(\"dp_ingestion_time\", F.current_timestamp())\n",
    "    )\n",
    "    # Cast all columns to string to handle column type mismatch through the years\n",
    "    batch_df = batch_df.select([F.col(c).cast(\"string\") for c in batch_df.columns])\n",
    "    # append to table\n",
    "    batch_df.write.mode(\"append\").saveAsTable(full_table_name)\n",
    "\n",
    "def process_bronze(checkpoint_path, file_path, full_table_name, job_id, run_id):\n",
    "    raw_df = (\n",
    "        spark.readStream.format(\"cloudFiles\")\n",
    "        .option(\"cloudFiles.format\", \"parquet\")\n",
    "        .option(\n",
    "            \"cloudFiles.schemaLocation\", checkpoint_path\n",
    "        )\n",
    "        .load(file_path)\n",
    "    )   \n",
    "    # write to table incrementally\n",
    "    query = (\n",
    "        raw_df.writeStream\n",
    "        .foreachBatch(add_audit_columns)\n",
    "        .option(\n",
    "            \"checkpointLocation\", checkpoint_path\n",
    "        )\n",
    "        .option(\"mergeSchema\", \"true\")\n",
    "        .outputMode(\"append\")\n",
    "        .trigger(availableNow=True)  # this means incremental batch\n",
    "        .start()\n",
    "    )\n",
    "    query.awaitTermination()"
   ]
  },
  {
   "cell_type": "code",
   "execution_count": null,
   "metadata": {},
   "outputs": [],
   "source": [
    "var = dbutils.widgets.getAll()\n",
    "for key in var.keys():\n",
    "    # create variables based on the k,v pair of the var dictionary\n",
    "    # - we could use the dict directly but this will ease things -\n",
    "    globals()[f'{key}'] = var[key]\n",
    "\n",
    "job_id, run_id = get_job_run_details()\n",
    "\n",
    "print(f\"{checkpoint_path = }\\n{file_path = }\\n{full_table_name = }\\n{job_id = }\\n{run_id = }\")"
   ]
  },
  {
   "cell_type": "code",
   "execution_count": null,
   "metadata": {},
   "outputs": [],
   "source": [
    "process_bronze(\n",
    "    checkpoint_path,\n",
    "    file_path,\n",
    "    full_table_name,\n",
    "    job_id,\n",
    "    run_id\n",
    ")\n",
    "print(f\"Data loaded successfully to {full_table_name}.\")"
   ]
  },
  {
   "cell_type": "code",
   "execution_count": null,
   "metadata": {},
   "outputs": [],
   "source": [
    "# Run the following queries to optimize the table\n",
    "# in this example it will run once a week on Fridays\n",
    "\n",
    "# Get today's date\n",
    "today = date.today()\n",
    "\n",
    "# Check if today is Friday\n",
    "if today.strftime(\"%A\") == \"Friday\":\n",
    "    queries = [\n",
    "        # f\"ANALYZE TABLE {full_table_name} COMPUTE STATISTICS;\", # this is only needed if it is not turned on at the schema level\n",
    "        f\"OPTIMIZE {full_table_name};\",\n",
    "        f\"VACUUM {full_table_name};\",\n",
    "    ]\n",
    "    for query in queries:\n",
    "        print(query)\n",
    "        spark.sql(query)\n",
    "    print(\"Optimization completed.\")    \n",
    "\n",
    "print(\"Optimization will run on Friday.\")"
   ]
  }
 ],
 "metadata": {
  "language_info": {
   "name": "python"
  }
 },
 "nbformat": 4,
 "nbformat_minor": 2
}
