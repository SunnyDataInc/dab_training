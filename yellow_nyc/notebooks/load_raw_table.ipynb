{
 "cells": [
  {
   "cell_type": "code",
   "execution_count": null,
   "metadata": {},
   "outputs": [],
   "source": [
    "from pyspark.sql import functions as F\n",
    "from datetime import date\n",
    "from databricks.sdk import WorkspaceClient"
   ]
  },
  {
   "cell_type": "code",
   "execution_count": null,
   "metadata": {},
   "outputs": [],
   "source": [
    "def add_audit_columns(batch_df, batch_id):\n",
    "    # get job details for audit columns\n",
    "    # Add audit columns\n",
    "    batch_df = (\n",
    "        batch_df.withColumn(\"dp_job_id\", F.lit(job_id))\n",
    "        .withColumn(\"dp_ingestion_time\", F.current_timestamp())\n",
    "        .selectExpr(\"*\",\"_metadata as dp_source_metadata\")\n",
    "    )\n",
    "    \n",
    "    # append to table\n",
    "    batch_df.write.mode(\"append\").saveAsTable(full_table_name)\n",
    "\n",
    "def process_bronze(checkpoint_path, file_path, full_table_name, job_id):\n",
    "    raw_df = (\n",
    "        spark.readStream.format(\"cloudFiles\")\n",
    "        .option(\"cloudFiles.format\", \"parquet\")\n",
    "        .option(\"cloudFiles.schemaHints\", \"airport_fee DOUBLE\")\n",
    "        .option(\n",
    "            \"cloudFiles.schemaLocation\", checkpoint_path\n",
    "        )\n",
    "        .load(file_path)\n",
    "    )\n",
    "    # write to table incrementally\n",
    "    query = (\n",
    "        raw_df.writeStream\n",
    "        .foreachBatch(add_audit_columns)\n",
    "        .option(\n",
    "            \"checkpointLocation\", checkpoint_path\n",
    "        )\n",
    "        .option(\"mergeSchema\", \"true\")\n",
    "        .outputMode(\"append\")\n",
    "        .trigger(availableNow=True)  # this means incremental batch\n",
    "        .start()\n",
    "    )\n",
    "    query.awaitTermination()"
   ]
  },
  {
   "cell_type": "code",
   "execution_count": null,
   "metadata": {},
   "outputs": [],
   "source": [
    "var = dbutils.widgets.getAll()\n",
    "for key in var.keys():\n",
    "    # create variables based on the k,v pair of the var dictionary\n",
    "    # - we could use the dict directly but this will ease things -\n",
    "    globals()[f'{key}'] = var[key]\n",
    "\n",
    "print(f\"{checkpoint_path = }\\n{file_path = }\\n{full_table_name = }\\n{job_id = }\")"
   ]
  },
  {
   "cell_type": "code",
   "execution_count": null,
   "metadata": {},
   "outputs": [],
   "source": [
    "process_bronze(\n",
    "    checkpoint_path,\n",
    "    file_path,\n",
    "    full_table_name,\n",
    "    job_id\n",
    ")\n",
    "print(f\"Data loaded successfully to {full_table_name}.\")"
   ]
  }
 ],
 "metadata": {
  "language_info": {
   "name": "python"
  }
 },
 "nbformat": 4,
 "nbformat_minor": 2
}
