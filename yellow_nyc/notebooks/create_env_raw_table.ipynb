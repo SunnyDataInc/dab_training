{
 "cells": [
  {
   "cell_type": "markdown",
   "metadata": {},
   "source": [
    "# Create environment for raw table\n",
    "This notebooks creates the following:\n",
    "* The Schema for the table if it doesn't exist\n",
    "* A Volume for the auto-loader checkpoints"
   ]
  },
  {
   "cell_type": "code",
   "execution_count": null,
   "metadata": {},
   "outputs": [],
   "source": [
    "var = dbutils.widgets.getAll()\n",
    "for key in var.keys():\n",
    "    # create variables based on the k,v pair of the var dictionary\n",
    "    # - we could use the dict directly but this will ease things -\n",
    "    globals()[f'{key}'] = var[key]\n",
    "\n",
    "# Now set vars from constants\n",
    "checkpoint_name = f\"{table}_checkpoints\"\n",
    "checkpoint_path = f\"/Volumes/{catalog}/{schema}/{checkpoint_name}\"\n",
    "file_path = f\"/Volumes/{catalog}/{schema}/{table}_collect/*/*\"\n",
    "full_table_name = f\"{catalog}.{schema}.brz_{table}\"\n",
    "\n",
    "print(f\"\"\"{catalog = }\n",
    "{schema = }\n",
    "{table = }\n",
    "{checkpoint_name = }\n",
    "{checkpoint_path = }\n",
    "{file_path = }\n",
    "{full_table_name = }\n",
    "\"\"\")"
   ]
  },
  {
   "cell_type": "code",
   "execution_count": null,
   "metadata": {},
   "outputs": [],
   "source": [
    "queries = [\n",
    "    f\"USE CATALOG {catalog};\",\n",
    "    f\"CREATE SCHEMA IF NOT EXISTS {schema};\",\n",
    "    f\"CREATE VOLUME IF NOT EXISTS {schema}.{checkpoint_name};\"\n",
    "]\n",
    "\n",
    "for query in queries:\n",
    "    print(query)\n",
    "    spark.sql(query)"
   ]
  },
  {
   "cell_type": "code",
   "execution_count": null,
   "metadata": {},
   "outputs": [],
   "source": [
    "# Here I set the task parameters to share downstream\n",
    "dbutils.jobs.taskValues.set(key='checkpoint_path', value=checkpoint_path)\n",
    "dbutils.jobs.taskValues.set(key='file_path', value=file_path)\n",
    "dbutils.jobs.taskValues.set(key='full_table_name', value=full_table_name)"
   ]
  }
 ],
 "metadata": {
  "kernelspec": {
   "display_name": ".venv",
   "language": "python",
   "name": "python3"
  },
  "language_info": {
   "name": "python",
   "version": "3.11.11"
  }
 },
 "nbformat": 4,
 "nbformat_minor": 2
}
