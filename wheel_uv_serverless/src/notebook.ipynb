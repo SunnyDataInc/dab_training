{
 "cells": [
  {
   "cell_type": "code",
   "execution_count": null,
   "metadata": {},
   "outputs": [],
   "source": [
    "import os\n",
    "import glob\n",
    "\n",
    "# consume the notebook parameter with the path where the wheels are found\n",
    "wheels_path = dbutils.widgets.get(\"wheels_path\")\n",
    "# Find all wheel files in the directory\n",
    "wheel_files = glob.glob(f\"{wheels_path}/*.whl\")\n",
    "\n",
    "# Install each wheel file\n",
    "for wheel in wheel_files:\n",
    "    print(f\"Installing {os.path.basename(wheel)}...\")\n",
    "    %pip install {wheel}\n",
    "\n",
    "# Restart Python interpreter to ensure all packages are available\n",
    "print(\"Restarting Python interpreter...\")\n",
    "dbutils.library.restartPython()"
   ]
  },
  {
   "cell_type": "code",
   "execution_count": null,
   "metadata": {},
   "outputs": [],
   "source": [
    "from consumer import combined_output\n",
    "\n",
    "combined_output(10,5)"
   ]
  }
 ],
 "metadata": {
  "application/vnd.databricks.v1+notebook": {
   "dashboards": [],
   "language": "python",
   "notebookMetadata": {
    "pythonIndentUnit": 2
   },
   "notebookName": "notebook",
   "widgets": {}
  },
  "kernelspec": {
   "display_name": "Python 3",
   "language": "python",
   "name": "python3"
  },
  "language_info": {
   "name": "python",
   "version": "3.11.4"
  }
 },
 "nbformat": 4,
 "nbformat_minor": 0
}
